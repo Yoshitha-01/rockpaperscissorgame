{
  "nbformat": 4,
  "nbformat_minor": 0,
  "metadata": {
    "colab": {
      "name": "Untitled5.ipynb",
      "provenance": [],
      "authorship_tag": "ABX9TyPotsMWFTAvCUvsNUXcDNsu",
      "include_colab_link": true
    },
    "kernelspec": {
      "name": "python3",
      "display_name": "Python 3"
    },
    "language_info": {
      "name": "python"
    }
  },
  "cells": [
    {
      "cell_type": "markdown",
      "metadata": {
        "id": "view-in-github",
        "colab_type": "text"
      },
      "source": [
        "<a href=\"https://colab.research.google.com/github/Yoshitha-01/rockpaperscissorgame/blob/main/rock%20paper%20scissor%20game.ipynb\" target=\"_parent\"><img src=\"https://colab.research.google.com/assets/colab-badge.svg\" alt=\"Open In Colab\"/></a>"
      ]
    },
    {
      "cell_type": "code",
      "execution_count": 3,
      "metadata": {
        "colab": {
          "base_uri": "https://localhost:8080/"
        },
        "id": "aBCmE9KX39X4",
        "outputId": "bafc2e2c-7470-4915-9890-3818bea8f9f8"
      },
      "outputs": [
        {
          "output_type": "stream",
          "name": "stdout",
          "text": [
            "Type Rock/Paper/Scissors or quit to exit: scissor\n",
            "Type Rock/Paper/Scissors or quit to exit: scissors\n",
            "Computer picked paper\n",
            "You won\n",
            "Type Rock/Paper/Scissors or quit to exit: paper\n",
            "Computer picked scissors\n",
            "You lose\n",
            "Type Rock/Paper/Scissors or quit to exit: paper\n",
            "Computer picked paper\n",
            "You lose\n",
            "Type Rock/Paper/Scissors or quit to exit: paer\n",
            "Type Rock/Paper/Scissors or quit to exit: paper\n",
            "Computer picked paper\n",
            "You lose\n",
            "Type Rock/Paper/Scissors or quit to exit: paper\n",
            "Computer picked scissors\n",
            "You lose\n",
            "Type Rock/Paper/Scissors or quit to exit: paper\n",
            "Computer picked scissors\n",
            "You lose\n",
            "Type Rock/Paper/Scissors or quit to exit: paper\n",
            "Computer picked scissors\n",
            "You lose\n",
            "Type Rock/Paper/Scissors or quit to exit: rock\n",
            "Computer picked scissors\n",
            "You won\n",
            "Type Rock/Paper/Scissors or quit to exit: q\n",
            "user score: 2\n",
            "Good Bye!!\n"
          ]
        }
      ],
      "source": [
        "import random\n",
        "user_wins=0\n",
        "comp_wins=0\n",
        "options=['rock','paper','scissors']\n",
        "while True:\n",
        "  user_input=input(\"Type Rock/Paper/Scissors or quit to exit: \").lower()\n",
        "  if user_input=='q':\n",
        "    break\n",
        "  if user_input not in options:\n",
        "    continue\n",
        "  rand=random.randint(0,2)\n",
        "  print(\"Computer picked\",options[rand])\n",
        "  if user_input=='rock' and options[rand]=='scissors':\n",
        "    print(\"You won\")\n",
        "    user_wins+=1\n",
        "    \n",
        "  elif user_input=='paper' and options[rand]=='rock':\n",
        "    print(\"You won\")\n",
        "    user_wins+=1\n",
        "    \n",
        "  elif user_input=='scissors' and options[rand]=='paper':\n",
        "    print(\"You won\")\n",
        "    user_wins+=1\n",
        "    \n",
        "  else:\n",
        "    print(\"You lose\")\n",
        "print(\"user score:\",user_wins)\n",
        "print(\"Good Bye!!\")\n",
        "  \n"
      ]
    }
  ]
}